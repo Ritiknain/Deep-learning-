{
 "cells": [
  {
   "cell_type": "code",
   "execution_count": 51,
   "id": "bf8602d3",
   "metadata": {},
   "outputs": [],
   "source": [
    "import numpy as np \n",
    "import pandas as pd \n",
    "import matplotlib.pyplot as plt\n",
    "import tensorflow \n",
    "from tensorflow import keras \n",
    "from keras import Sequential \n",
    "from keras.layers import Dense"
   ]
  },
  {
   "cell_type": "code",
   "execution_count": 52,
   "id": "f6e8206a",
   "metadata": {},
   "outputs": [],
   "source": [
    "df=pd.read_csv(\"Admission_Predict.csv\")"
   ]
  },
  {
   "cell_type": "code",
   "execution_count": 53,
   "id": "8e5e9a39",
   "metadata": {},
   "outputs": [
    {
     "data": {
      "text/html": [
       "<div>\n",
       "<style scoped>\n",
       "    .dataframe tbody tr th:only-of-type {\n",
       "        vertical-align: middle;\n",
       "    }\n",
       "\n",
       "    .dataframe tbody tr th {\n",
       "        vertical-align: top;\n",
       "    }\n",
       "\n",
       "    .dataframe thead th {\n",
       "        text-align: right;\n",
       "    }\n",
       "</style>\n",
       "<table border=\"1\" class=\"dataframe\">\n",
       "  <thead>\n",
       "    <tr style=\"text-align: right;\">\n",
       "      <th></th>\n",
       "      <th>Serial No.</th>\n",
       "      <th>GRE Score</th>\n",
       "      <th>TOEFL Score</th>\n",
       "      <th>University Rating</th>\n",
       "      <th>SOP</th>\n",
       "      <th>LOR</th>\n",
       "      <th>CGPA</th>\n",
       "      <th>Research</th>\n",
       "      <th>Chance of Admit</th>\n",
       "    </tr>\n",
       "  </thead>\n",
       "  <tbody>\n",
       "    <tr>\n",
       "      <th>0</th>\n",
       "      <td>1</td>\n",
       "      <td>337</td>\n",
       "      <td>118</td>\n",
       "      <td>4</td>\n",
       "      <td>4.5</td>\n",
       "      <td>4.5</td>\n",
       "      <td>9.65</td>\n",
       "      <td>1</td>\n",
       "      <td>0.92</td>\n",
       "    </tr>\n",
       "    <tr>\n",
       "      <th>1</th>\n",
       "      <td>2</td>\n",
       "      <td>324</td>\n",
       "      <td>107</td>\n",
       "      <td>4</td>\n",
       "      <td>4.0</td>\n",
       "      <td>4.5</td>\n",
       "      <td>8.87</td>\n",
       "      <td>1</td>\n",
       "      <td>0.76</td>\n",
       "    </tr>\n",
       "    <tr>\n",
       "      <th>2</th>\n",
       "      <td>3</td>\n",
       "      <td>316</td>\n",
       "      <td>104</td>\n",
       "      <td>3</td>\n",
       "      <td>3.0</td>\n",
       "      <td>3.5</td>\n",
       "      <td>8.00</td>\n",
       "      <td>1</td>\n",
       "      <td>0.72</td>\n",
       "    </tr>\n",
       "    <tr>\n",
       "      <th>3</th>\n",
       "      <td>4</td>\n",
       "      <td>322</td>\n",
       "      <td>110</td>\n",
       "      <td>3</td>\n",
       "      <td>3.5</td>\n",
       "      <td>2.5</td>\n",
       "      <td>8.67</td>\n",
       "      <td>1</td>\n",
       "      <td>0.80</td>\n",
       "    </tr>\n",
       "    <tr>\n",
       "      <th>4</th>\n",
       "      <td>5</td>\n",
       "      <td>314</td>\n",
       "      <td>103</td>\n",
       "      <td>2</td>\n",
       "      <td>2.0</td>\n",
       "      <td>3.0</td>\n",
       "      <td>8.21</td>\n",
       "      <td>0</td>\n",
       "      <td>0.65</td>\n",
       "    </tr>\n",
       "  </tbody>\n",
       "</table>\n",
       "</div>"
      ],
      "text/plain": [
       "   Serial No.  GRE Score  TOEFL Score  University Rating  SOP  LOR   CGPA  \\\n",
       "0           1        337          118                  4  4.5   4.5  9.65   \n",
       "1           2        324          107                  4  4.0   4.5  8.87   \n",
       "2           3        316          104                  3  3.0   3.5  8.00   \n",
       "3           4        322          110                  3  3.5   2.5  8.67   \n",
       "4           5        314          103                  2  2.0   3.0  8.21   \n",
       "\n",
       "   Research  Chance of Admit   \n",
       "0         1              0.92  \n",
       "1         1              0.76  \n",
       "2         1              0.72  \n",
       "3         1              0.80  \n",
       "4         0              0.65  "
      ]
     },
     "execution_count": 53,
     "metadata": {},
     "output_type": "execute_result"
    }
   ],
   "source": [
    "df.head()"
   ]
  },
  {
   "cell_type": "code",
   "execution_count": 54,
   "id": "39a1d588",
   "metadata": {},
   "outputs": [
    {
     "data": {
      "text/plain": [
       "(500, 9)"
      ]
     },
     "execution_count": 54,
     "metadata": {},
     "output_type": "execute_result"
    }
   ],
   "source": [
    "df.shape"
   ]
  },
  {
   "cell_type": "code",
   "execution_count": 55,
   "id": "ab9e4642",
   "metadata": {},
   "outputs": [
    {
     "name": "stdout",
     "output_type": "stream",
     "text": [
      "<class 'pandas.core.frame.DataFrame'>\n",
      "RangeIndex: 500 entries, 0 to 499\n",
      "Data columns (total 9 columns):\n",
      " #   Column             Non-Null Count  Dtype  \n",
      "---  ------             --------------  -----  \n",
      " 0   Serial No.         500 non-null    int64  \n",
      " 1   GRE Score          500 non-null    int64  \n",
      " 2   TOEFL Score        500 non-null    int64  \n",
      " 3   University Rating  500 non-null    int64  \n",
      " 4   SOP                500 non-null    float64\n",
      " 5   LOR                500 non-null    float64\n",
      " 6   CGPA               500 non-null    float64\n",
      " 7   Research           500 non-null    int64  \n",
      " 8   Chance of Admit    500 non-null    float64\n",
      "dtypes: float64(4), int64(5)\n",
      "memory usage: 35.3 KB\n"
     ]
    }
   ],
   "source": [
    "df.info()"
   ]
  },
  {
   "cell_type": "code",
   "execution_count": 56,
   "id": "94927ded",
   "metadata": {},
   "outputs": [
    {
     "data": {
      "text/plain": [
       "0"
      ]
     },
     "execution_count": 56,
     "metadata": {},
     "output_type": "execute_result"
    }
   ],
   "source": [
    "df.duplicated().sum()"
   ]
  },
  {
   "cell_type": "code",
   "execution_count": 57,
   "id": "06626c6c",
   "metadata": {},
   "outputs": [
    {
     "data": {
      "text/plain": [
       "Serial No.           0\n",
       "GRE Score            0\n",
       "TOEFL Score          0\n",
       "University Rating    0\n",
       "SOP                  0\n",
       "LOR                  0\n",
       "CGPA                 0\n",
       "Research             0\n",
       "Chance of Admit      0\n",
       "dtype: int64"
      ]
     },
     "execution_count": 57,
     "metadata": {},
     "output_type": "execute_result"
    }
   ],
   "source": [
    "df.isnull().sum()\n"
   ]
  },
  {
   "cell_type": "code",
   "execution_count": 73,
   "id": "5ff162fa",
   "metadata": {},
   "outputs": [],
   "source": [
    "X = df.iloc[:,1:-1]\n",
    "y = df.iloc[:,-1]\n"
   ]
  },
  {
   "cell_type": "code",
   "execution_count": 74,
   "id": "fca40964",
   "metadata": {},
   "outputs": [
    {
     "data": {
      "text/html": [
       "<div>\n",
       "<style scoped>\n",
       "    .dataframe tbody tr th:only-of-type {\n",
       "        vertical-align: middle;\n",
       "    }\n",
       "\n",
       "    .dataframe tbody tr th {\n",
       "        vertical-align: top;\n",
       "    }\n",
       "\n",
       "    .dataframe thead th {\n",
       "        text-align: right;\n",
       "    }\n",
       "</style>\n",
       "<table border=\"1\" class=\"dataframe\">\n",
       "  <thead>\n",
       "    <tr style=\"text-align: right;\">\n",
       "      <th></th>\n",
       "      <th>GRE Score</th>\n",
       "      <th>TOEFL Score</th>\n",
       "      <th>University Rating</th>\n",
       "      <th>SOP</th>\n",
       "      <th>LOR</th>\n",
       "      <th>CGPA</th>\n",
       "      <th>Research</th>\n",
       "    </tr>\n",
       "  </thead>\n",
       "  <tbody>\n",
       "    <tr>\n",
       "      <th>0</th>\n",
       "      <td>337</td>\n",
       "      <td>118</td>\n",
       "      <td>4</td>\n",
       "      <td>4.5</td>\n",
       "      <td>4.5</td>\n",
       "      <td>9.65</td>\n",
       "      <td>1</td>\n",
       "    </tr>\n",
       "    <tr>\n",
       "      <th>1</th>\n",
       "      <td>324</td>\n",
       "      <td>107</td>\n",
       "      <td>4</td>\n",
       "      <td>4.0</td>\n",
       "      <td>4.5</td>\n",
       "      <td>8.87</td>\n",
       "      <td>1</td>\n",
       "    </tr>\n",
       "    <tr>\n",
       "      <th>2</th>\n",
       "      <td>316</td>\n",
       "      <td>104</td>\n",
       "      <td>3</td>\n",
       "      <td>3.0</td>\n",
       "      <td>3.5</td>\n",
       "      <td>8.00</td>\n",
       "      <td>1</td>\n",
       "    </tr>\n",
       "    <tr>\n",
       "      <th>3</th>\n",
       "      <td>322</td>\n",
       "      <td>110</td>\n",
       "      <td>3</td>\n",
       "      <td>3.5</td>\n",
       "      <td>2.5</td>\n",
       "      <td>8.67</td>\n",
       "      <td>1</td>\n",
       "    </tr>\n",
       "    <tr>\n",
       "      <th>4</th>\n",
       "      <td>314</td>\n",
       "      <td>103</td>\n",
       "      <td>2</td>\n",
       "      <td>2.0</td>\n",
       "      <td>3.0</td>\n",
       "      <td>8.21</td>\n",
       "      <td>0</td>\n",
       "    </tr>\n",
       "    <tr>\n",
       "      <th>...</th>\n",
       "      <td>...</td>\n",
       "      <td>...</td>\n",
       "      <td>...</td>\n",
       "      <td>...</td>\n",
       "      <td>...</td>\n",
       "      <td>...</td>\n",
       "      <td>...</td>\n",
       "    </tr>\n",
       "    <tr>\n",
       "      <th>495</th>\n",
       "      <td>332</td>\n",
       "      <td>108</td>\n",
       "      <td>5</td>\n",
       "      <td>4.5</td>\n",
       "      <td>4.0</td>\n",
       "      <td>9.02</td>\n",
       "      <td>1</td>\n",
       "    </tr>\n",
       "    <tr>\n",
       "      <th>496</th>\n",
       "      <td>337</td>\n",
       "      <td>117</td>\n",
       "      <td>5</td>\n",
       "      <td>5.0</td>\n",
       "      <td>5.0</td>\n",
       "      <td>9.87</td>\n",
       "      <td>1</td>\n",
       "    </tr>\n",
       "    <tr>\n",
       "      <th>497</th>\n",
       "      <td>330</td>\n",
       "      <td>120</td>\n",
       "      <td>5</td>\n",
       "      <td>4.5</td>\n",
       "      <td>5.0</td>\n",
       "      <td>9.56</td>\n",
       "      <td>1</td>\n",
       "    </tr>\n",
       "    <tr>\n",
       "      <th>498</th>\n",
       "      <td>312</td>\n",
       "      <td>103</td>\n",
       "      <td>4</td>\n",
       "      <td>4.0</td>\n",
       "      <td>5.0</td>\n",
       "      <td>8.43</td>\n",
       "      <td>0</td>\n",
       "    </tr>\n",
       "    <tr>\n",
       "      <th>499</th>\n",
       "      <td>327</td>\n",
       "      <td>113</td>\n",
       "      <td>4</td>\n",
       "      <td>4.5</td>\n",
       "      <td>4.5</td>\n",
       "      <td>9.04</td>\n",
       "      <td>0</td>\n",
       "    </tr>\n",
       "  </tbody>\n",
       "</table>\n",
       "<p>500 rows × 7 columns</p>\n",
       "</div>"
      ],
      "text/plain": [
       "     GRE Score  TOEFL Score  University Rating  SOP  LOR   CGPA  Research\n",
       "0          337          118                  4  4.5   4.5  9.65         1\n",
       "1          324          107                  4  4.0   4.5  8.87         1\n",
       "2          316          104                  3  3.0   3.5  8.00         1\n",
       "3          322          110                  3  3.5   2.5  8.67         1\n",
       "4          314          103                  2  2.0   3.0  8.21         0\n",
       "..         ...          ...                ...  ...   ...   ...       ...\n",
       "495        332          108                  5  4.5   4.0  9.02         1\n",
       "496        337          117                  5  5.0   5.0  9.87         1\n",
       "497        330          120                  5  4.5   5.0  9.56         1\n",
       "498        312          103                  4  4.0   5.0  8.43         0\n",
       "499        327          113                  4  4.5   4.5  9.04         0\n",
       "\n",
       "[500 rows x 7 columns]"
      ]
     },
     "execution_count": 74,
     "metadata": {},
     "output_type": "execute_result"
    }
   ],
   "source": [
    "X"
   ]
  },
  {
   "cell_type": "code",
   "execution_count": 75,
   "id": "93530377",
   "metadata": {},
   "outputs": [
    {
     "data": {
      "text/plain": [
       "0      0.92\n",
       "1      0.76\n",
       "2      0.72\n",
       "3      0.80\n",
       "4      0.65\n",
       "       ... \n",
       "495    0.87\n",
       "496    0.96\n",
       "497    0.93\n",
       "498    0.73\n",
       "499    0.84\n",
       "Name: Chance of Admit , Length: 500, dtype: float64"
      ]
     },
     "execution_count": 75,
     "metadata": {},
     "output_type": "execute_result"
    }
   ],
   "source": [
    "y"
   ]
  },
  {
   "cell_type": "code",
   "execution_count": 76,
   "id": "95d89081",
   "metadata": {},
   "outputs": [],
   "source": [
    "from sklearn.model_selection import train_test_split\n",
    "X_train,X_test,y_train,y_test= train_test_split(X,y,test_size=0.3, random_state=16)"
   ]
  },
  {
   "cell_type": "code",
   "execution_count": 77,
   "id": "217d6b8f",
   "metadata": {},
   "outputs": [],
   "source": [
    "from sklearn.preprocessing import MinMaxScaler"
   ]
  },
  {
   "cell_type": "code",
   "execution_count": 78,
   "id": "c36a827c",
   "metadata": {},
   "outputs": [],
   "source": [
    "scaler= MinMaxScaler()\n",
    "X_train_scaled = scaler.fit_transform(X_train)\n",
    "X_test_scaled= scaler.transform(X_test)"
   ]
  },
  {
   "cell_type": "code",
   "execution_count": 79,
   "id": "a38d0a94",
   "metadata": {},
   "outputs": [
    {
     "data": {
      "text/plain": [
       "array([[0.42      , 0.35714286, 0.5       , ..., 0.71428571, 0.58974359,\n",
       "        1.        ],\n",
       "       [0.54      , 0.39285714, 0.25      , ..., 0.14285714, 0.43269231,\n",
       "        0.        ],\n",
       "       [0.62      , 0.60714286, 0.75      , ..., 0.71428571, 0.74679487,\n",
       "        1.        ],\n",
       "       ...,\n",
       "       [0.88      , 0.96428571, 1.        , ..., 0.85714286, 0.85897436,\n",
       "        1.        ],\n",
       "       [0.4       , 0.42857143, 0.5       , ..., 0.57142857, 0.50320513,\n",
       "        0.        ],\n",
       "       [0.42      , 0.25      , 0.25      , ..., 0.42857143, 0.37820513,\n",
       "        0.        ]])"
      ]
     },
     "execution_count": 79,
     "metadata": {},
     "output_type": "execute_result"
    }
   ],
   "source": [
    "X_train_scaled"
   ]
  },
  {
   "cell_type": "code",
   "execution_count": 80,
   "id": "edceedbc",
   "metadata": {},
   "outputs": [],
   "source": [
    "model = Sequential()\n",
    "\n",
    "model.add(Dense(7,activation='relu',input_dim=7))\n",
    "model.add(Dense(7,activation='relu'))\n",
    "model.add(Dense(1,activation='linear'))\n"
   ]
  },
  {
   "cell_type": "code",
   "execution_count": 81,
   "id": "e006bfcb",
   "metadata": {},
   "outputs": [
    {
     "name": "stdout",
     "output_type": "stream",
     "text": [
      "Model: \"sequential_6\"\n",
      "_________________________________________________________________\n",
      " Layer (type)                Output Shape              Param #   \n",
      "=================================================================\n",
      " dense_15 (Dense)            (None, 7)                 56        \n",
      "                                                                 \n",
      " dense_16 (Dense)            (None, 7)                 56        \n",
      "                                                                 \n",
      " dense_17 (Dense)            (None, 1)                 8         \n",
      "                                                                 \n",
      "=================================================================\n",
      "Total params: 120\n",
      "Trainable params: 120\n",
      "Non-trainable params: 0\n",
      "_________________________________________________________________\n"
     ]
    }
   ],
   "source": [
    "model.summary()"
   ]
  },
  {
   "cell_type": "code",
   "execution_count": 82,
   "id": "22db5f54",
   "metadata": {},
   "outputs": [],
   "source": [
    "model.compile(loss='mean_squared_error',optimizer='Adam')\n"
   ]
  },
  {
   "cell_type": "code",
   "execution_count": 83,
   "id": "0d010c4d",
   "metadata": {},
   "outputs": [
    {
     "name": "stdout",
     "output_type": "stream",
     "text": [
      "Epoch 1/100\n",
      "9/9 [==============================] - 2s 42ms/step - loss: 2.2817 - val_loss: 1.9935\n",
      "Epoch 2/100\n",
      "9/9 [==============================] - 0s 13ms/step - loss: 2.0026 - val_loss: 1.7621\n",
      "Epoch 3/100\n",
      "9/9 [==============================] - 0s 7ms/step - loss: 1.7814 - val_loss: 1.5838\n",
      "Epoch 4/100\n",
      "9/9 [==============================] - 0s 8ms/step - loss: 1.6082 - val_loss: 1.4279\n",
      "Epoch 5/100\n",
      "9/9 [==============================] - 0s 10ms/step - loss: 1.4535 - val_loss: 1.2842\n",
      "Epoch 6/100\n",
      "9/9 [==============================] - 0s 8ms/step - loss: 1.3073 - val_loss: 1.1440\n",
      "Epoch 7/100\n",
      "9/9 [==============================] - 0s 7ms/step - loss: 1.1604 - val_loss: 0.9945\n",
      "Epoch 8/100\n",
      "9/9 [==============================] - 0s 7ms/step - loss: 0.9984 - val_loss: 0.8384\n",
      "Epoch 9/100\n",
      "9/9 [==============================] - 0s 8ms/step - loss: 0.8211 - val_loss: 0.6602\n",
      "Epoch 10/100\n",
      "9/9 [==============================] - 0s 7ms/step - loss: 0.6238 - val_loss: 0.4686\n",
      "Epoch 11/100\n",
      "9/9 [==============================] - 0s 8ms/step - loss: 0.4137 - val_loss: 0.2821\n",
      "Epoch 12/100\n",
      "9/9 [==============================] - 0s 7ms/step - loss: 0.2388 - val_loss: 0.1612\n",
      "Epoch 13/100\n",
      "9/9 [==============================] - 0s 7ms/step - loss: 0.1375 - val_loss: 0.0936\n",
      "Epoch 14/100\n",
      "9/9 [==============================] - 0s 8ms/step - loss: 0.0786 - val_loss: 0.0508\n",
      "Epoch 15/100\n",
      "9/9 [==============================] - 0s 7ms/step - loss: 0.0424 - val_loss: 0.0271\n",
      "Epoch 16/100\n",
      "9/9 [==============================] - 0s 7ms/step - loss: 0.0238 - val_loss: 0.0170\n",
      "Epoch 17/100\n",
      "9/9 [==============================] - 0s 7ms/step - loss: 0.0168 - val_loss: 0.0146\n",
      "Epoch 18/100\n",
      "9/9 [==============================] - 0s 8ms/step - loss: 0.0154 - val_loss: 0.0145\n",
      "Epoch 19/100\n",
      "9/9 [==============================] - 0s 7ms/step - loss: 0.0152 - val_loss: 0.0143\n",
      "Epoch 20/100\n",
      "9/9 [==============================] - 0s 8ms/step - loss: 0.0149 - val_loss: 0.0139\n",
      "Epoch 21/100\n",
      "9/9 [==============================] - 0s 9ms/step - loss: 0.0145 - val_loss: 0.0135\n",
      "Epoch 22/100\n",
      "9/9 [==============================] - 0s 8ms/step - loss: 0.0142 - val_loss: 0.0133\n",
      "Epoch 23/100\n",
      "9/9 [==============================] - 0s 8ms/step - loss: 0.0139 - val_loss: 0.0131\n",
      "Epoch 24/100\n",
      "9/9 [==============================] - 0s 9ms/step - loss: 0.0137 - val_loss: 0.0129\n",
      "Epoch 25/100\n",
      "9/9 [==============================] - 0s 9ms/step - loss: 0.0135 - val_loss: 0.0128\n",
      "Epoch 26/100\n",
      "9/9 [==============================] - 0s 9ms/step - loss: 0.0133 - val_loss: 0.0126\n",
      "Epoch 27/100\n",
      "9/9 [==============================] - 0s 9ms/step - loss: 0.0131 - val_loss: 0.0124\n",
      "Epoch 28/100\n",
      "9/9 [==============================] - 0s 22ms/step - loss: 0.0130 - val_loss: 0.0123\n",
      "Epoch 29/100\n",
      "9/9 [==============================] - 0s 19ms/step - loss: 0.0128 - val_loss: 0.0121\n",
      "Epoch 30/100\n",
      "9/9 [==============================] - 0s 9ms/step - loss: 0.0126 - val_loss: 0.0120\n",
      "Epoch 31/100\n",
      "9/9 [==============================] - 0s 7ms/step - loss: 0.0125 - val_loss: 0.0118\n",
      "Epoch 32/100\n",
      "9/9 [==============================] - 0s 11ms/step - loss: 0.0123 - val_loss: 0.0117\n",
      "Epoch 33/100\n",
      "9/9 [==============================] - 0s 9ms/step - loss: 0.0122 - val_loss: 0.0116\n",
      "Epoch 34/100\n",
      "9/9 [==============================] - 0s 10ms/step - loss: 0.0121 - val_loss: 0.0115\n",
      "Epoch 35/100\n",
      "9/9 [==============================] - 0s 11ms/step - loss: 0.0119 - val_loss: 0.0113\n",
      "Epoch 36/100\n",
      "9/9 [==============================] - 0s 9ms/step - loss: 0.0119 - val_loss: 0.0112\n",
      "Epoch 37/100\n",
      "9/9 [==============================] - 0s 9ms/step - loss: 0.0117 - val_loss: 0.0111\n",
      "Epoch 38/100\n",
      "9/9 [==============================] - 0s 8ms/step - loss: 0.0116 - val_loss: 0.0110\n",
      "Epoch 39/100\n",
      "9/9 [==============================] - 0s 8ms/step - loss: 0.0115 - val_loss: 0.0109\n",
      "Epoch 40/100\n",
      "9/9 [==============================] - 0s 8ms/step - loss: 0.0114 - val_loss: 0.0108\n",
      "Epoch 41/100\n",
      "9/9 [==============================] - 0s 7ms/step - loss: 0.0113 - val_loss: 0.0107\n",
      "Epoch 42/100\n",
      "9/9 [==============================] - 0s 7ms/step - loss: 0.0112 - val_loss: 0.0106\n",
      "Epoch 43/100\n",
      "9/9 [==============================] - 0s 7ms/step - loss: 0.0111 - val_loss: 0.0106\n",
      "Epoch 44/100\n",
      "9/9 [==============================] - 0s 6ms/step - loss: 0.0110 - val_loss: 0.0105\n",
      "Epoch 45/100\n",
      "9/9 [==============================] - 0s 7ms/step - loss: 0.0109 - val_loss: 0.0104\n",
      "Epoch 46/100\n",
      "9/9 [==============================] - 0s 7ms/step - loss: 0.0109 - val_loss: 0.0103\n",
      "Epoch 47/100\n",
      "9/9 [==============================] - 0s 8ms/step - loss: 0.0108 - val_loss: 0.0102\n",
      "Epoch 48/100\n",
      "9/9 [==============================] - 0s 7ms/step - loss: 0.0107 - val_loss: 0.0102\n",
      "Epoch 49/100\n",
      "9/9 [==============================] - 0s 7ms/step - loss: 0.0106 - val_loss: 0.0101\n",
      "Epoch 50/100\n",
      "9/9 [==============================] - 0s 8ms/step - loss: 0.0105 - val_loss: 0.0100\n",
      "Epoch 51/100\n",
      "9/9 [==============================] - 0s 8ms/step - loss: 0.0105 - val_loss: 0.0099\n",
      "Epoch 52/100\n",
      "9/9 [==============================] - 0s 7ms/step - loss: 0.0104 - val_loss: 0.0098\n",
      "Epoch 53/100\n",
      "9/9 [==============================] - 0s 9ms/step - loss: 0.0103 - val_loss: 0.0098\n",
      "Epoch 54/100\n",
      "9/9 [==============================] - 0s 13ms/step - loss: 0.0103 - val_loss: 0.0097\n",
      "Epoch 55/100\n",
      "9/9 [==============================] - 0s 7ms/step - loss: 0.0102 - val_loss: 0.0096\n",
      "Epoch 56/100\n",
      "9/9 [==============================] - 0s 8ms/step - loss: 0.0101 - val_loss: 0.0096\n",
      "Epoch 57/100\n",
      "9/9 [==============================] - 0s 8ms/step - loss: 0.0101 - val_loss: 0.0095\n",
      "Epoch 58/100\n",
      "9/9 [==============================] - 0s 7ms/step - loss: 0.0100 - val_loss: 0.0094\n",
      "Epoch 59/100\n",
      "9/9 [==============================] - 0s 7ms/step - loss: 0.0099 - val_loss: 0.0094\n",
      "Epoch 60/100\n",
      "9/9 [==============================] - 0s 10ms/step - loss: 0.0099 - val_loss: 0.0093\n",
      "Epoch 61/100\n",
      "9/9 [==============================] - 0s 8ms/step - loss: 0.0098 - val_loss: 0.0092\n",
      "Epoch 62/100\n",
      "9/9 [==============================] - 0s 7ms/step - loss: 0.0098 - val_loss: 0.0092\n",
      "Epoch 63/100\n",
      "9/9 [==============================] - 0s 6ms/step - loss: 0.0097 - val_loss: 0.0091\n",
      "Epoch 64/100\n",
      "9/9 [==============================] - 0s 8ms/step - loss: 0.0096 - val_loss: 0.0090\n",
      "Epoch 65/100\n",
      "9/9 [==============================] - 0s 8ms/step - loss: 0.0096 - val_loss: 0.0090\n",
      "Epoch 66/100\n",
      "9/9 [==============================] - 0s 7ms/step - loss: 0.0095 - val_loss: 0.0089\n",
      "Epoch 67/100\n",
      "9/9 [==============================] - 0s 7ms/step - loss: 0.0095 - val_loss: 0.0089\n",
      "Epoch 68/100\n",
      "9/9 [==============================] - 0s 7ms/step - loss: 0.0094 - val_loss: 0.0088\n",
      "Epoch 69/100\n",
      "9/9 [==============================] - 0s 7ms/step - loss: 0.0094 - val_loss: 0.0087\n",
      "Epoch 70/100\n",
      "9/9 [==============================] - 0s 6ms/step - loss: 0.0093 - val_loss: 0.0087\n",
      "Epoch 71/100\n",
      "9/9 [==============================] - 0s 9ms/step - loss: 0.0093 - val_loss: 0.0086\n",
      "Epoch 72/100\n",
      "9/9 [==============================] - 0s 12ms/step - loss: 0.0092 - val_loss: 0.0086\n",
      "Epoch 73/100\n",
      "9/9 [==============================] - 0s 7ms/step - loss: 0.0092 - val_loss: 0.0085\n",
      "Epoch 74/100\n",
      "9/9 [==============================] - 0s 9ms/step - loss: 0.0091 - val_loss: 0.0085\n",
      "Epoch 75/100\n",
      "9/9 [==============================] - 0s 10ms/step - loss: 0.0091 - val_loss: 0.0084\n",
      "Epoch 76/100\n",
      "9/9 [==============================] - 0s 8ms/step - loss: 0.0090 - val_loss: 0.0084\n",
      "Epoch 77/100\n",
      "9/9 [==============================] - 0s 11ms/step - loss: 0.0090 - val_loss: 0.0083\n",
      "Epoch 78/100\n",
      "9/9 [==============================] - 0s 9ms/step - loss: 0.0089 - val_loss: 0.0083\n",
      "Epoch 79/100\n",
      "9/9 [==============================] - 0s 9ms/step - loss: 0.0089 - val_loss: 0.0082\n",
      "Epoch 80/100\n",
      "9/9 [==============================] - 0s 11ms/step - loss: 0.0088 - val_loss: 0.0081\n",
      "Epoch 81/100\n",
      "9/9 [==============================] - 0s 9ms/step - loss: 0.0088 - val_loss: 0.0081\n",
      "Epoch 82/100\n",
      "9/9 [==============================] - 0s 10ms/step - loss: 0.0087 - val_loss: 0.0081\n",
      "Epoch 83/100\n",
      "9/9 [==============================] - 0s 8ms/step - loss: 0.0087 - val_loss: 0.0080\n",
      "Epoch 84/100\n"
     ]
    },
    {
     "name": "stdout",
     "output_type": "stream",
     "text": [
      "9/9 [==============================] - 0s 10ms/step - loss: 0.0087 - val_loss: 0.0080\n",
      "Epoch 85/100\n",
      "9/9 [==============================] - 0s 10ms/step - loss: 0.0086 - val_loss: 0.0079\n",
      "Epoch 86/100\n",
      "9/9 [==============================] - 0s 9ms/step - loss: 0.0086 - val_loss: 0.0079\n",
      "Epoch 87/100\n",
      "9/9 [==============================] - 0s 9ms/step - loss: 0.0086 - val_loss: 0.0078\n",
      "Epoch 88/100\n",
      "9/9 [==============================] - 0s 9ms/step - loss: 0.0085 - val_loss: 0.0078\n",
      "Epoch 89/100\n",
      "9/9 [==============================] - 0s 7ms/step - loss: 0.0085 - val_loss: 0.0077\n",
      "Epoch 90/100\n",
      "9/9 [==============================] - 0s 7ms/step - loss: 0.0084 - val_loss: 0.0077\n",
      "Epoch 91/100\n",
      "9/9 [==============================] - 0s 8ms/step - loss: 0.0084 - val_loss: 0.0076\n",
      "Epoch 92/100\n",
      "9/9 [==============================] - 0s 8ms/step - loss: 0.0083 - val_loss: 0.0076\n",
      "Epoch 93/100\n",
      "9/9 [==============================] - 0s 8ms/step - loss: 0.0083 - val_loss: 0.0076\n",
      "Epoch 94/100\n",
      "9/9 [==============================] - 0s 8ms/step - loss: 0.0083 - val_loss: 0.0075\n",
      "Epoch 95/100\n",
      "9/9 [==============================] - 0s 8ms/step - loss: 0.0082 - val_loss: 0.0074\n",
      "Epoch 96/100\n",
      "9/9 [==============================] - 0s 7ms/step - loss: 0.0082 - val_loss: 0.0074\n",
      "Epoch 97/100\n",
      "9/9 [==============================] - 0s 8ms/step - loss: 0.0082 - val_loss: 0.0074\n",
      "Epoch 98/100\n",
      "9/9 [==============================] - 0s 7ms/step - loss: 0.0081 - val_loss: 0.0073\n",
      "Epoch 99/100\n",
      "9/9 [==============================] - 0s 7ms/step - loss: 0.0081 - val_loss: 0.0073\n",
      "Epoch 100/100\n",
      "9/9 [==============================] - 0s 10ms/step - loss: 0.0081 - val_loss: 0.0073\n"
     ]
    }
   ],
   "source": [
    "history = model.fit(X_train_scaled,y_train,epochs=100,validation_split=0.2)\n"
   ]
  },
  {
   "cell_type": "code",
   "execution_count": 84,
   "id": "91982887",
   "metadata": {},
   "outputs": [
    {
     "name": "stdout",
     "output_type": "stream",
     "text": [
      "5/5 [==============================] - 0s 8ms/step\n"
     ]
    }
   ],
   "source": [
    "y_pred = model.predict(X_test_scaled)\n"
   ]
  },
  {
   "cell_type": "code",
   "execution_count": 85,
   "id": "73664e94",
   "metadata": {},
   "outputs": [
    {
     "data": {
      "text/plain": [
       "0.6546689061816753"
      ]
     },
     "execution_count": 85,
     "metadata": {},
     "output_type": "execute_result"
    }
   ],
   "source": [
    "from sklearn.metrics import r2_score\n",
    "r2_score(y_test,y_pred)"
   ]
  },
  {
   "cell_type": "code",
   "execution_count": 86,
   "id": "a88b4c92",
   "metadata": {},
   "outputs": [
    {
     "data": {
      "text/plain": [
       "[<matplotlib.lines.Line2D at 0x7f1a248a9a90>]"
      ]
     },
     "execution_count": 86,
     "metadata": {},
     "output_type": "execute_result"
    },
    {
     "data": {
      "image/png": "[encoded data removed]",
      "text/plain": [
       "<Figure size 640x480 with 1 Axes>"
      ]
     },
     "metadata": {},
     "output_type": "display_data"
    }
   ],
   "source": [
    "import matplotlib.pyplot as plt\n",
    "plt.plot(history.history['loss'])\n",
    "plt.plot(history.history['val_loss'])\n"
   ]
  },
  {
   "cell_type": "code",
   "execution_count": null,
   "id": "eb7a8ac0",
   "metadata": {},
   "outputs": [],
   "source": []
  }
 ],
 "metadata": {
  "kernelspec": {
   "display_name": "Python 3 (ipykernel)",
   "language": "python",
   "name": "python3"
  },
  "language_info": {
   "codemirror_mode": {
    "name": "ipython",
    "version": 3
   },
   "file_extension": ".py",
   "mimetype": "text/x-python",
   "name": "python",
   "nbconvert_exporter": "python",
   "pygments_lexer": "ipython3",
   "version": "3.11.3"
  }
 },
 "nbformat": 4,
 "nbformat_minor": 5
}
